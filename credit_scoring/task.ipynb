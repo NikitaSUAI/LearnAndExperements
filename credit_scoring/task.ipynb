{
 "cells": [
  {
   "cell_type": "code",
   "execution_count": 1,
   "id": "b65f2f69-1720-4511-95ff-a2a96fcf94dd",
   "metadata": {},
   "outputs": [],
   "source": [
    "import pandas as pd\n",
    "train_file_name = \"train.csv\"\n",
    "train_data = pd.read_csv(train_file_name)\n",
    "test_file_name = \"test.csv\"\n",
    "test_data = pd.read_csv(test_file_name)"
   ]
  },
  {
   "cell_type": "code",
   "execution_count": 2,
   "id": "b92c8429-c3ac-46dc-a724-ebba1bd1e64a",
   "metadata": {
    "collapsed": true,
    "jupyter": {
     "outputs_hidden": true
    },
    "tags": []
   },
   "outputs": [
    {
     "data": {
      "text/html": [
       "<div>\n",
       "<style scoped>\n",
       "    .dataframe tbody tr th:only-of-type {\n",
       "        vertical-align: middle;\n",
       "    }\n",
       "\n",
       "    .dataframe tbody tr th {\n",
       "        vertical-align: top;\n",
       "    }\n",
       "\n",
       "    .dataframe thead th {\n",
       "        text-align: right;\n",
       "    }\n",
       "</style>\n",
       "<table border=\"1\" class=\"dataframe\">\n",
       "  <thead>\n",
       "    <tr style=\"text-align: right;\">\n",
       "      <th></th>\n",
       "      <th>order_id</th>\n",
       "      <th>cred_sum_cc_all</th>\n",
       "      <th>mfo_inqs_count_month</th>\n",
       "      <th>all_closed_creds_sum_all</th>\n",
       "      <th>bank_inqs_count_quarter</th>\n",
       "      <th>cred_max_overdue_max_ly</th>\n",
       "      <th>all_active_creds_sum_all</th>\n",
       "      <th>mfo_last_days_all</th>\n",
       "      <th>cred_sum_cc_ly</th>\n",
       "      <th>cred_sum_debt_all_all</th>\n",
       "      <th>...</th>\n",
       "      <th>cred_max_overdue_max_3lm</th>\n",
       "      <th>mfo_closed_count_ly</th>\n",
       "      <th>cred_sum_overdue_cc_all</th>\n",
       "      <th>count_overdue_all_3lm</th>\n",
       "      <th>all_creds_count_lm</th>\n",
       "      <th>work_code</th>\n",
       "      <th>month_income</th>\n",
       "      <th>region</th>\n",
       "      <th>bad</th>\n",
       "      <th>approved</th>\n",
       "    </tr>\n",
       "  </thead>\n",
       "  <tbody>\n",
       "    <tr>\n",
       "      <th>0</th>\n",
       "      <td>5498546</td>\n",
       "      <td>0.0</td>\n",
       "      <td>0</td>\n",
       "      <td>40364</td>\n",
       "      <td>0</td>\n",
       "      <td>0.0</td>\n",
       "      <td>3000</td>\n",
       "      <td>560</td>\n",
       "      <td>0.0</td>\n",
       "      <td>0.0</td>\n",
       "      <td>...</td>\n",
       "      <td>0.0</td>\n",
       "      <td>0</td>\n",
       "      <td>0.00</td>\n",
       "      <td>0</td>\n",
       "      <td>0</td>\n",
       "      <td>3</td>\n",
       "      <td>50000</td>\n",
       "      <td>46</td>\n",
       "      <td>NaN</td>\n",
       "      <td>0</td>\n",
       "    </tr>\n",
       "    <tr>\n",
       "      <th>1</th>\n",
       "      <td>5498604</td>\n",
       "      <td>1500.0</td>\n",
       "      <td>0</td>\n",
       "      <td>23456</td>\n",
       "      <td>0</td>\n",
       "      <td>0.0</td>\n",
       "      <td>0</td>\n",
       "      <td>9999</td>\n",
       "      <td>0.0</td>\n",
       "      <td>0.0</td>\n",
       "      <td>...</td>\n",
       "      <td>0.0</td>\n",
       "      <td>0</td>\n",
       "      <td>0.00</td>\n",
       "      <td>0</td>\n",
       "      <td>0</td>\n",
       "      <td>3</td>\n",
       "      <td>35000</td>\n",
       "      <td>17</td>\n",
       "      <td>NaN</td>\n",
       "      <td>0</td>\n",
       "    </tr>\n",
       "    <tr>\n",
       "      <th>2</th>\n",
       "      <td>5498609</td>\n",
       "      <td>0.1</td>\n",
       "      <td>0</td>\n",
       "      <td>17999</td>\n",
       "      <td>3</td>\n",
       "      <td>0.0</td>\n",
       "      <td>9999</td>\n",
       "      <td>9999</td>\n",
       "      <td>0.1</td>\n",
       "      <td>9999.0</td>\n",
       "      <td>...</td>\n",
       "      <td>0.0</td>\n",
       "      <td>0</td>\n",
       "      <td>0.00</td>\n",
       "      <td>0</td>\n",
       "      <td>2</td>\n",
       "      <td>3</td>\n",
       "      <td>35000</td>\n",
       "      <td>58</td>\n",
       "      <td>NaN</td>\n",
       "      <td>0</td>\n",
       "    </tr>\n",
       "    <tr>\n",
       "      <th>3</th>\n",
       "      <td>5498645</td>\n",
       "      <td>5000.0</td>\n",
       "      <td>0</td>\n",
       "      <td>313247</td>\n",
       "      <td>0</td>\n",
       "      <td>0.0</td>\n",
       "      <td>0</td>\n",
       "      <td>9999</td>\n",
       "      <td>0.0</td>\n",
       "      <td>0.0</td>\n",
       "      <td>...</td>\n",
       "      <td>0.0</td>\n",
       "      <td>0</td>\n",
       "      <td>4923.97</td>\n",
       "      <td>0</td>\n",
       "      <td>0</td>\n",
       "      <td>5</td>\n",
       "      <td>35000</td>\n",
       "      <td>4</td>\n",
       "      <td>NaN</td>\n",
       "      <td>0</td>\n",
       "    </tr>\n",
       "  </tbody>\n",
       "</table>\n",
       "<p>4 rows × 25 columns</p>\n",
       "</div>"
      ],
      "text/plain": [
       "   order_id  cred_sum_cc_all  mfo_inqs_count_month  all_closed_creds_sum_all  \\\n",
       "0   5498546              0.0                     0                     40364   \n",
       "1   5498604           1500.0                     0                     23456   \n",
       "2   5498609              0.1                     0                     17999   \n",
       "3   5498645           5000.0                     0                    313247   \n",
       "\n",
       "   bank_inqs_count_quarter  cred_max_overdue_max_ly  all_active_creds_sum_all  \\\n",
       "0                        0                      0.0                      3000   \n",
       "1                        0                      0.0                         0   \n",
       "2                        3                      0.0                      9999   \n",
       "3                        0                      0.0                         0   \n",
       "\n",
       "   mfo_last_days_all  cred_sum_cc_ly  cred_sum_debt_all_all  ...  \\\n",
       "0                560             0.0                    0.0  ...   \n",
       "1               9999             0.0                    0.0  ...   \n",
       "2               9999             0.1                 9999.0  ...   \n",
       "3               9999             0.0                    0.0  ...   \n",
       "\n",
       "   cred_max_overdue_max_3lm  mfo_closed_count_ly  cred_sum_overdue_cc_all  \\\n",
       "0                       0.0                    0                     0.00   \n",
       "1                       0.0                    0                     0.00   \n",
       "2                       0.0                    0                     0.00   \n",
       "3                       0.0                    0                  4923.97   \n",
       "\n",
       "   count_overdue_all_3lm  all_creds_count_lm  work_code  month_income  region  \\\n",
       "0                      0                   0          3         50000      46   \n",
       "1                      0                   0          3         35000      17   \n",
       "2                      0                   2          3         35000      58   \n",
       "3                      0                   0          5         35000       4   \n",
       "\n",
       "   bad  approved  \n",
       "0  NaN         0  \n",
       "1  NaN         0  \n",
       "2  NaN         0  \n",
       "3  NaN         0  \n",
       "\n",
       "[4 rows x 25 columns]"
      ]
     },
     "execution_count": 2,
     "metadata": {},
     "output_type": "execute_result"
    }
   ],
   "source": [
    "train_data.head(4)"
   ]
  },
  {
   "cell_type": "markdown",
   "id": "b2380961-e98d-470a-b899-9bf7723813cf",
   "metadata": {},
   "source": [
    "# Модель 1"
   ]
  },
  {
   "cell_type": "code",
   "execution_count": 3,
   "id": "260e7dd5-e87c-49aa-9109-0dd494511a60",
   "metadata": {},
   "outputs": [],
   "source": [
    "train_data_first_model = train_data.dropna()\n",
    "test_data_first_model = test_data.dropna()"
   ]
  },
  {
   "cell_type": "code",
   "execution_count": 4,
   "id": "c9281c22-2b64-4174-9f1e-a64cbc24829b",
   "metadata": {},
   "outputs": [],
   "source": [
    "y = train_data_first_model[\"bad\"]\n",
    "X = train_data_first_model.drop(['bad', \"approved\"], axis=1)"
   ]
  },
  {
   "cell_type": "code",
   "execution_count": 5,
   "id": "330a1c0e-7b74-48c4-9e02-b1e7b857932b",
   "metadata": {},
   "outputs": [
    {
     "data": {
      "text/plain": [
       "Pipeline(steps=[('standardscaler', StandardScaler()),\n",
       "                ('logisticregression',\n",
       "                 LogisticRegression(class_weight={0: 0.3, 1: 0.6},\n",
       "                                    random_state=1))])"
      ]
     },
     "execution_count": 5,
     "metadata": {},
     "output_type": "execute_result"
    }
   ],
   "source": [
    "from sklearn.preprocessing import StandardScaler\n",
    "from sklearn.linear_model import LogisticRegression\n",
    "from sklearn.pipeline import make_pipeline\n",
    "\n",
    "pipeline = make_pipeline(StandardScaler(), LogisticRegression(random_state=1, class_weight={1:0.6, 0:0.3}))\n",
    "pipeline.fit(X, y)"
   ]
  },
  {
   "cell_type": "code",
   "execution_count": 6,
   "id": "bbd33a55-d1ff-4a3c-9723-6327e21f19f2",
   "metadata": {},
   "outputs": [],
   "source": [
    "y_test = test_data_first_model[\"bad\"]\n",
    "X_test = test_data_first_model.drop(['bad', \"approved\"], axis=1)"
   ]
  },
  {
   "cell_type": "code",
   "execution_count": 7,
   "id": "8079bd8c-a831-4b34-bb3b-28727ec7680a",
   "metadata": {},
   "outputs": [
    {
     "data": {
      "text/plain": [
       "0.7024128686327078"
      ]
     },
     "execution_count": 7,
     "metadata": {},
     "output_type": "execute_result"
    }
   ],
   "source": [
    "pipeline.score(X_test, y_test)"
   ]
  },
  {
   "cell_type": "code",
   "execution_count": 8,
   "id": "261462b3-f74f-46f1-84fb-97116d9455da",
   "metadata": {},
   "outputs": [],
   "source": [
    "predict = pipeline.predict(X_test)"
   ]
  },
  {
   "cell_type": "code",
   "execution_count": 9,
   "id": "ae5ac2c4-a0a1-4dec-b15d-c33524248ff4",
   "metadata": {},
   "outputs": [
    {
     "data": {
      "text/plain": [
       "0.2222222222222222"
      ]
     },
     "execution_count": 9,
     "metadata": {},
     "output_type": "execute_result"
    }
   ],
   "source": [
    "from sklearn import metrics\n",
    "metrics.recall_score(y_test, predict)"
   ]
  },
  {
   "cell_type": "code",
   "execution_count": 10,
   "id": "8124e40c-9860-48a0-9885-62a01d45419a",
   "metadata": {},
   "outputs": [
    {
     "data": {
      "text/plain": [
       "0.39285714285714285"
      ]
     },
     "execution_count": 10,
     "metadata": {},
     "output_type": "execute_result"
    }
   ],
   "source": [
    "metrics.precision_score(y_test, predict)"
   ]
  },
  {
   "cell_type": "code",
   "execution_count": 21,
   "id": "53ed0829-497c-40dd-bd25-aef1c1005966",
   "metadata": {},
   "outputs": [
    {
     "name": "stdout",
     "output_type": "stream",
     "text": [
      "0.2975871313672922\n"
     ]
    }
   ],
   "source": [
    "count_model_1 = 0\n",
    "for i, j in zip(y_test, predict):\n",
    "    if i != j:\n",
    "        count_model_1 += 1\n",
    "print(count_model_1/len(y_test))"
   ]
  },
  {
   "cell_type": "markdown",
   "id": "b0f112ea-83a2-44b7-a345-a8d24a64ac06",
   "metadata": {},
   "source": [
    "# Модель 2"
   ]
  },
  {
   "cell_type": "code",
   "execution_count": 12,
   "id": "81fd2fec-2236-418f-b6cc-6b7040749b53",
   "metadata": {},
   "outputs": [],
   "source": [
    "y_model_2 = train_data[\"approved\"]\n",
    "X_model_2 = train_data.drop(['bad', \"approved\"], axis=1)"
   ]
  },
  {
   "cell_type": "code",
   "execution_count": 13,
   "id": "ca3d4a51-e309-448e-bb9b-789e08ea37f9",
   "metadata": {},
   "outputs": [],
   "source": [
    "model_2_pipe = make_pipeline(StandardScaler(), LogisticRegression(random_state=1))"
   ]
  },
  {
   "cell_type": "code",
   "execution_count": 14,
   "id": "e9cf0713-6c8a-4b0b-9a0b-c5bb6790fd34",
   "metadata": {},
   "outputs": [
    {
     "data": {
      "text/plain": [
       "Pipeline(steps=[('standardscaler', StandardScaler()),\n",
       "                ('logisticregression', LogisticRegression(random_state=1))])"
      ]
     },
     "execution_count": 14,
     "metadata": {},
     "output_type": "execute_result"
    }
   ],
   "source": [
    "model_2_pipe.fit(X_model_2, y_model_2)"
   ]
  },
  {
   "cell_type": "code",
   "execution_count": 15,
   "id": "49bec0a7-2982-4f34-af68-7e49089a0624",
   "metadata": {},
   "outputs": [],
   "source": [
    "y_test_model_2 = test_data[\"approved\"]\n",
    "X_test_model_2 = test_data.drop(['bad', \"approved\"], axis=1)"
   ]
  },
  {
   "cell_type": "code",
   "execution_count": 16,
   "id": "d131adb0-938a-4c53-81c3-6092efb8dd55",
   "metadata": {},
   "outputs": [
    {
     "data": {
      "text/plain": [
       "0.7996715927750411"
      ]
     },
     "execution_count": 16,
     "metadata": {},
     "output_type": "execute_result"
    }
   ],
   "source": [
    "model_2_pipe.score(X_test_model_2, y_test_model_2)"
   ]
  },
  {
   "cell_type": "code",
   "execution_count": 17,
   "id": "e118ef37-aa12-4759-8c5b-bec0974e1737",
   "metadata": {},
   "outputs": [
    {
     "data": {
      "text/plain": [
       "0.5442359249329759"
      ]
     },
     "execution_count": 17,
     "metadata": {},
     "output_type": "execute_result"
    }
   ],
   "source": [
    "predict_model_2 = model_2_pipe.predict(X_test_model_2)\n",
    "metrics.recall_score(y_test_model_2, predict_model_2)"
   ]
  },
  {
   "cell_type": "code",
   "execution_count": 18,
   "id": "45912cfd-ab62-4218-a741-7430a6255bf1",
   "metadata": {},
   "outputs": [
    {
     "data": {
      "text/plain": [
       "0.7328519855595668"
      ]
     },
     "execution_count": 18,
     "metadata": {},
     "output_type": "execute_result"
    }
   ],
   "source": [
    "metrics.precision_score(y_test_model_2, predict_model_2)"
   ]
  },
  {
   "cell_type": "code",
   "execution_count": 25,
   "id": "453d0835-fc15-435d-a27d-54d47fc1611f",
   "metadata": {},
   "outputs": [
    {
     "name": "stdout",
     "output_type": "stream",
     "text": [
      "0.20032840722495895\n"
     ]
    },
    {
     "data": {
      "text/plain": [
       "array([[-3.53948085e-03, -5.64554443e+00],\n",
       "       [-1.37276602e-01, -2.05361062e+00],\n",
       "       [-2.27443371e+00, -1.08537934e-01],\n",
       "       [-4.74043219e-02, -3.07265041e+00],\n",
       "       [-5.04550615e-01, -9.25777698e-01],\n",
       "       [-4.47338084e-01, -1.01978556e+00],\n",
       "       [-1.23766050e+00, -3.42577670e-01],\n",
       "       [-1.93322128e-01, -1.73850175e+00],\n",
       "       [-3.10923469e-02, -3.48629946e+00],\n",
       "       [-1.60215148e-01, -1.91027596e+00]])"
      ]
     },
     "execution_count": 25,
     "metadata": {},
     "output_type": "execute_result"
    }
   ],
   "source": [
    "count = 0\n",
    "for i, j in zip(y_test_model_2, predict_model_2):\n",
    "    if i != j:\n",
    "        count += 1\n",
    "#         print(f\"true : {i}, pred : {j}\")\n",
    "print(count/len(y_test_model_2))\n",
    "x_x_x = X_test_model_2[0:10]\n",
    "model_2_pipe.predict_log_proba(x_x_x)\n",
    "# model_2_pipe.predict(x_x_x)"
   ]
  }
 ],
 "metadata": {
  "kernelspec": {
   "display_name": "Python 3",
   "language": "python",
   "name": "python3"
  },
  "language_info": {
   "codemirror_mode": {
    "name": "ipython",
    "version": 3
   },
   "file_extension": ".py",
   "mimetype": "text/x-python",
   "name": "python",
   "nbconvert_exporter": "python",
   "pygments_lexer": "ipython3",
   "version": "3.8.10"
  }
 },
 "nbformat": 4,
 "nbformat_minor": 5
}
